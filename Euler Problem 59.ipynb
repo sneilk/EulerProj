{
 "cells": [
  {
   "cell_type": "code",
   "execution_count": 97,
   "metadata": {},
   "outputs": [],
   "source": [
    "path_read = 'C:\\mlcourse\\p059_cipher.txt'\n",
    "path_write = 'C:\\mlcourse\\p059_message.txt'\n",
    "file_r = open(path_read, 'r',  encoding='utf-8')"
   ]
  },
  {
   "cell_type": "code",
   "execution_count": 98,
   "metadata": {},
   "outputs": [],
   "source": [
    "inp = file_r.read()[:-1]\n",
    "mas = inp.split(',')\n",
    "for i in range(0, len(mas)):\n",
    "    mas[i] = int(mas[i])"
   ]
  },
  {
   "cell_type": "code",
   "execution_count": 99,
   "metadata": {},
   "outputs": [],
   "source": [
    "def xor_decrypt(key, encr_message):\n",
    "    decr_message = []\n",
    "    for i in range(0, len(encr_message)):\n",
    "        decr_message.append(encr_message[i] ^ key[i % len(key)])\n",
    "    return decr_message\n",
    "\n",
    "def check_mes(message):\n",
    "    for i in range(0, len(message)):\n",
    "        if (message[i] > 125) or (message[i] < 32):\n",
    "            return False\n",
    "        if (((message[i] == ord('q')) or (message[i] == ord('Q'))) \n",
    "            and (i < len(message) - 1)):\n",
    "            if (message[i + 1] != ord('u')):\n",
    "                return False\n",
    "    return True"
   ]
  },
  {
   "cell_type": "code",
   "execution_count": 100,
   "metadata": {},
   "outputs": [
    {
     "name": "stdout",
     "output_type": "stream",
     "text": [
      "(The Gospel of John, chapter 1) 1 In the beginning the Word already existed. He was with God, and he was God. 2 He was in the beginning with God. 3 He created everything there is. Nothing exists that he didn't make. 4 Life itself was in him, and this life gives light to everyone. 5 The light shines through the darkness, and the darkness can never extinguish it. 6 God sent John the Baptist 7 to tell everyone about the light so that everyone might believe because of his testimony. 8 John himself was not the light; he was only a witness to the light. 9 The one who is the true light, who gives light to everyone, was going to come into the world. 10 But although the world was made through him, the world didn't recognize him when he came. 11 Even in his own land and among his own people, he was not accepted. 12 But to all who believed him and accepted him, he gave the right to become children of God. 13 They are reborn! This is not a physical birth resulting from human passion or plan, this rebirth comes from God.14 So the Word became human and lived here on earth among us. He was full of unfailing love and faithfulness. And we have seen his glory, the glory of the only Son of the Father."
     ]
    }
   ],
   "source": [
    "count = 0\n",
    "res = []\n",
    "for k in range(97, 123):\n",
    "    for e in range(97, 123):\n",
    "        for y in range(97, 123):\n",
    "            mes_to_check = xor_decrypt([k, e, y], mas)\n",
    "            if check_mes(mes_to_check):\n",
    "                count += 1\n",
    "                res = mes_to_check\n",
    "                for i in mes_to_check:\n",
    "                    print(chr(i), end=\"\")"
   ]
  },
  {
   "cell_type": "code",
   "execution_count": 101,
   "metadata": {},
   "outputs": [
    {
     "data": {
      "text/plain": [
       "107359"
      ]
     },
     "execution_count": 101,
     "metadata": {},
     "output_type": "execute_result"
    }
   ],
   "source": [
    "sum(res)"
   ]
  },
  {
   "cell_type": "code",
   "execution_count": null,
   "metadata": {},
   "outputs": [],
   "source": []
  }
 ],
 "metadata": {
  "kernelspec": {
   "display_name": "Python 3",
   "language": "python",
   "name": "python3"
  },
  "language_info": {
   "codemirror_mode": {
    "name": "ipython",
    "version": 3
   },
   "file_extension": ".py",
   "mimetype": "text/x-python",
   "name": "python",
   "nbconvert_exporter": "python",
   "pygments_lexer": "ipython3",
   "version": "3.6.5"
  }
 },
 "nbformat": 4,
 "nbformat_minor": 2
}
