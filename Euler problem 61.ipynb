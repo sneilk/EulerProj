{
 "cells": [
  {
   "cell_type": "code",
   "execution_count": 38,
   "metadata": {},
   "outputs": [],
   "source": [
    "def triangle(n):\n",
    "    return(n * (n + 1) // 2)\n",
    "\n",
    "def sqare(n):\n",
    "    return(n * n)\n",
    "\n",
    "def pentag(n):\n",
    "    return((n * ((3 * n) - 1)) // 2)\n",
    "\n",
    "def hexag(n):\n",
    "    return(n * (2 * n - 1))\n",
    "\n",
    "def heptag(n):\n",
    "        return(n * (5 * n - 3) // 2)\n",
    "    \n",
    "def octag(n):\n",
    "        return(n * (3 * n - 2))"
   ]
  },
  {
   "cell_type": "code",
   "execution_count": 39,
   "metadata": {},
   "outputs": [],
   "source": [
    "def search_nums_len_4(func):\n",
    "    k = 1\n",
    "    i = 1\n",
    "    res_list = []\n",
    "    while(1):\n",
    "        k = func(i)\n",
    "        if (k > 10000):\n",
    "            return(res_list)\n",
    "        elif(len(str(k)) == 4):\n",
    "            res_list.append(k)\n",
    "        i += 1"
   ]
  },
  {
   "cell_type": "code",
   "execution_count": 40,
   "metadata": {},
   "outputs": [],
   "source": [
    "def pair(num1, num2):\n",
    "    if str(num1)[2:] == str(num2)[:2]:\n",
    "        return True\n",
    "    return False"
   ]
  },
  {
   "cell_type": "code",
   "execution_count": 41,
   "metadata": {},
   "outputs": [],
   "source": [
    "#   !!!   ATTENTION   !!!\n",
    "def search_pair(num, used_figs, list_nums, res):\n",
    "    used_f = []\n",
    "    kend = 0\n",
    "    for i in range(len(list_nums)):\n",
    "        if (i not in used_figs):\n",
    "            used_f = used_figs.copy()\n",
    "            used_f.append(i)\n",
    "            for k in list_nums[i]:\n",
    "                if pair(num, k):\n",
    "                    res.append(k)\n",
    "                    if (len(res) == len(list_nums)):\n",
    "                        if(pair(res[-1], res[0])):\n",
    "                            return res, True\n",
    "                        else:\n",
    "                            return res, False\n",
    "                    else:\n",
    "                        res, flag = search_pair(k, used_f, list_nums, res)\n",
    "                        if flag:\n",
    "                            return res, True\n",
    "                        else:\n",
    "                            res = res[:-1]\n",
    "    return res, False"
   ]
  },
  {
   "cell_type": "code",
   "execution_count": 42,
   "metadata": {},
   "outputs": [],
   "source": [
    "dict_types = {3: triangle, 4: sqare, 5: pentag, 6: hexag, 7: heptag, 8: octag}\n",
    "dict_nums = {}\n",
    "list_nums = []\n",
    "\n",
    "for i in range(6):\n",
    "    dict_nums[i + 3] = search_nums_len_4(dict_types[i + 3])\n",
    "for i in dict_nums:\n",
    "    list_nums.append(dict_nums[i])"
   ]
  },
  {
   "cell_type": "code",
   "execution_count": 43,
   "metadata": {},
   "outputs": [
    {
     "name": "stdout",
     "output_type": "stream",
     "text": [
      "res:  [8128, 2850, 5017, 1764, 1782, 8281]\n",
      "sum_res:  27822\n"
     ]
    }
   ],
   "source": [
    "for i in range(len(list_nums[0])):\n",
    "    res = [list_nums[0][i]]\n",
    "    used_figs = [0]\n",
    "    res, flag = search_pair(list_nums[0][i], used_figs, list_nums, res)\n",
    "    if flag:\n",
    "        print('res: ', res)\n",
    "        print('sum_res: ', sum(res))\n",
    "        break"
   ]
  },
  {
   "cell_type": "code",
   "execution_count": null,
   "metadata": {},
   "outputs": [],
   "source": []
  }
 ],
 "metadata": {
  "kernelspec": {
   "display_name": "Python 3",
   "language": "python",
   "name": "python3"
  },
  "language_info": {
   "codemirror_mode": {
    "name": "ipython",
    "version": 3
   },
   "file_extension": ".py",
   "mimetype": "text/x-python",
   "name": "python",
   "nbconvert_exporter": "python",
   "pygments_lexer": "ipython3",
   "version": "3.6.5"
  }
 },
 "nbformat": 4,
 "nbformat_minor": 2
}
