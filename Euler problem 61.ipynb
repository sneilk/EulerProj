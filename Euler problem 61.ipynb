{
 "cells": [
  {
   "cell_type": "code",
   "execution_count": 1,
   "metadata": {},
   "outputs": [],
   "source": [
    "def triangle(n):\n",
    "    return(n * (n + 1) // 2)\n",
    "\n",
    "def sqare(n):\n",
    "    return(n * n)\n",
    "\n",
    "def pentag(n):\n",
    "    return((n * ((3 * n) - 1)) // 2)\n",
    "\n",
    "def hexag(n):\n",
    "    return(n * (2 * n - 1))\n",
    "\n",
    "def heptag(n):\n",
    "        return(n * (5 * n - 3) // 2)\n",
    "    \n",
    "def octag(n):\n",
    "        return(n * (3 * n - 2))"
   ]
  },
  {
   "cell_type": "code",
   "execution_count": 2,
   "metadata": {},
   "outputs": [],
   "source": [
    "def search_nums_len_4(func):\n",
    "    k = 1\n",
    "    i = 1\n",
    "    res_list = []\n",
    "    while(1):\n",
    "        k = func(i)\n",
    "        if (k > 10000):\n",
    "            return(res_list)\n",
    "        elif(len(str(k)) == 4):\n",
    "            res_list.append(k)\n",
    "        i += 1"
   ]
  },
  {
   "cell_type": "code",
   "execution_count": 3,
   "metadata": {},
   "outputs": [],
   "source": [
    "def pair(num1, num2):\n",
    "    if str(num1)[2:] == str(num2)[:2]:\n",
    "        return True\n",
    "    return False"
   ]
  },
  {
   "cell_type": "code",
   "execution_count": 80,
   "metadata": {},
   "outputs": [],
   "source": [
    "def post_check(list_to_ch, num, first):\n",
    "    if (len(list_to_ch) == 1):\n",
    "        return pair(list_to_ch[0], first)\n",
    "    else:\n",
    "        res = False\n",
    "        for i in range(len(list_to_ch)):\n",
    "            if (pair(num, list_to_ch[i])):\n",
    "                l1 = list_to_ch.copy()\n",
    "                l1.pop(i)\n",
    "                res = post_check(l1, list_to_check[i], first)\n",
    "                if (res):\n",
    "                    return True\n",
    "        return res"
   ]
  },
  {
   "cell_type": "code",
   "execution_count": 81,
   "metadata": {},
   "outputs": [],
   "source": [
    "## Проверка списка на то, что окончание каждого его элемента является началом другого\n",
    "def check(list_to_check):\n",
    "    res = False\n",
    "    num = list_to_check[0]\n",
    "    for i in range(1, len(list_to_check)):\n",
    "        if (pair(num, list_to_check[i])):\n",
    "            l1 = list_to_check[1:].copy()\n",
    "            l1.pop(i - 1)\n",
    "            res = post_check(l1, list_to_check[i], num)\n",
    "            if (res):\n",
    "                return True\n",
    "    return False"
   ]
  },
  {
   "cell_type": "code",
   "execution_count": 82,
   "metadata": {},
   "outputs": [],
   "source": [
    "def n_cycle_to_check(data_dict, res, count):\n",
    "    if (data_dict.get(min_key + count, -1) == -1):\n",
    "        if (check(res)):\n",
    "            print(res)\n",
    "        \n",
    "    else:\n",
    "        for i in dict_nums[min_key + count]:\n",
    "            buff_res = res.copy()\n",
    "            buff_res.append(i)\n",
    "            n_cycle_to_check(dict_nums, buff_res, count - 1)"
   ]
  },
  {
   "cell_type": "code",
   "execution_count": 6,
   "metadata": {},
   "outputs": [],
   "source": [
    "dict_types = {3: triangle, 4: sqare, 5: pentag, 6: hexag, 7: heptag, 8: octag}\n",
    "dict_nums = {}\n",
    "list_nums = []\n",
    "\n",
    "for i in range(6):\n",
    "    dict_nums[i + 3] = search_nums_len_4(dict_types[i + 3])\n",
    "for i in dict_nums:\n",
    "    list_nums.append(dict_nums[i])"
   ]
  },
  {
   "cell_type": "code",
   "execution_count": 76,
   "metadata": {},
   "outputs": [],
   "source": [
    "dict_types = {3: triangle, 4: sqare, 5: pentag}\n",
    "dict_nums = {}\n",
    "\n",
    "for i in range(3):\n",
    "    dict_nums[i + 3] = search_nums_len_4(dict_types[i + 3])"
   ]
  },
  {
   "cell_type": "code",
   "execution_count": 84,
   "metadata": {},
   "outputs": [
    {
     "data": {
      "text/plain": [
       "True"
      ]
     },
     "execution_count": 84,
     "metadata": {},
     "output_type": "execute_result"
    }
   ],
   "source": [
    "!!!!!\n",
    "\n",
    "\n",
    "l2 = [1162, 6241, 1711]\n",
    "check(l2)"
   ]
  },
  {
   "cell_type": "code",
   "execution_count": 83,
   "metadata": {},
   "outputs": [
    {
     "name": "stdout",
     "output_type": "stream",
     "text": [
      "[1162, 6241, 1711]\n",
      "[1162, 6241, 2211]\n",
      "[1162, 6241, 8911]\n",
      "[1520, 2025, 2415]\n",
      "[1520, 2025, 8515]\n",
      "[1617, 1764, 2016]\n",
      "[1617, 1764, 3916]\n",
      "[1617, 1764, 6216]\n",
      "[1617, 1764, 9316]\n",
      "[1617, 2116, 1711]\n",
      "[1617, 2116, 1770]\n",
      "[1617, 2916, 1711]\n",
      "[1617, 2916, 1770]\n",
      "[1617, 9216, 1711]\n",
      "[1617, 9216, 1770]\n",
      "[2147, 1521, 4753]\n",
      "[2147, 3721, 4753]\n",
      "[2147, 4761, 3321]\n",
      "[2147, 4761, 7021]\n",
      "[2147, 7921, 4753]\n",
      "[2625, 2500, 1326]\n",
      "[2625, 2500, 2926]\n",
      "[2625, 2500, 7626]\n",
      "[2882, 8281, 1128]\n",
      "[2882, 8281, 2628]\n",
      "[2882, 8281, 3828]\n",
      "[2882, 8281, 6328]\n",
      "[2882, 8281, 8128]\n",
      "[3015, 1521, 1830]\n",
      "[3015, 1521, 9730]\n",
      "[3151, 5184, 1431]\n",
      "[3577, 7744, 1035]\n",
      "[4030, 3025, 1540]\n",
      "[4030, 3025, 3240]\n",
      "[4030, 3025, 7140]\n",
      "[4187, 5041, 8778]\n",
      "[4187, 6241, 8778]\n",
      "[4510, 1024, 2145]\n",
      "[4510, 1024, 9045]\n",
      "[4510, 1089, 2145]\n",
      "[4510, 1089, 9045]\n",
      "[5017, 1764, 2850]\n",
      "[5017, 1764, 4950]\n",
      "[5017, 1764, 5050]\n",
      "[5017, 1764, 7750]\n",
      "[5192, 9216, 4851]\n",
      "[5192, 9216, 5151]\n",
      "[5370, 7056, 1653]\n",
      "[5370, 7056, 1953]\n",
      "[5370, 7056, 4753]\n",
      "[5370, 7056, 5253]\n",
      "[5370, 7056, 9453]\n",
      "[5551, 5184, 3655]\n",
      "[5551, 5184, 6555]\n",
      "[6112, 4761, 1225]\n",
      "[6112, 4761, 1275]\n",
      "[6112, 6561, 1225]\n",
      "[6112, 6561, 1275]\n",
      "[7526, 2601, 1275]\n",
      "[7526, 2601, 2775]\n",
      "[7526, 2601, 7875]\n",
      "[8177, 1681, 7750]\n",
      "[8177, 3481, 7750]\n",
      "[8177, 7744, 1081]\n",
      "[8177, 7744, 3081]\n",
      "[8177, 7744, 7381]\n",
      "[8177, 8281, 7750]\n",
      "[8626, 2601, 3486]\n",
      "[8626, 2601, 4186]\n",
      "[8626, 2601, 5886]\n",
      "[8626, 2601, 6786]\n",
      "[9560, 6084, 4095]\n",
      "[9560, 6084, 5995]\n"
     ]
    }
   ],
   "source": [
    "count = len(dict_nums.keys())\n",
    "min_key = min(dict_nums.keys()) -1\n",
    "for i in dict_nums[min_key + count]:\n",
    "    n_cycle_to_check(dict_nums, [i], count - 1)"
   ]
  },
  {
   "cell_type": "code",
   "execution_count": null,
   "metadata": {},
   "outputs": [],
   "source": []
  },
  {
   "cell_type": "code",
   "execution_count": null,
   "metadata": {},
   "outputs": [],
   "source": []
  }
 ],
 "metadata": {
  "kernelspec": {
   "display_name": "Python 3",
   "language": "python",
   "name": "python3"
  },
  "language_info": {
   "codemirror_mode": {
    "name": "ipython",
    "version": 3
   },
   "file_extension": ".py",
   "mimetype": "text/x-python",
   "name": "python",
   "nbconvert_exporter": "python",
   "pygments_lexer": "ipython3",
   "version": "3.6.5"
  }
 },
 "nbformat": 4,
 "nbformat_minor": 2
}
