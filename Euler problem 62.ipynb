{
 "cells": [
  {
   "cell_type": "code",
   "execution_count": 20,
   "metadata": {},
   "outputs": [],
   "source": [
    "def search(k):\n",
    "    mas = []\n",
    "    count = (10 ** k)\n",
    "    i = 1\n",
    "    while ((i ** 3) < count):\n",
    "        i += 1\n",
    "    while ((i ** 3) < count * 10):\n",
    "        mas.append(str(i ** 3))\n",
    "        i += 1\n",
    "    return(mas)"
   ]
  },
  {
   "cell_type": "code",
   "execution_count": 36,
   "metadata": {},
   "outputs": [],
   "source": [
    "def sort_nums_in(number):\n",
    "    num = []\n",
    "    for i in number:\n",
    "        num.append(i)\n",
    "    for k in range(len(num)):\n",
    "        for i in range(len(num) - 1):\n",
    "            if (int(num[i]) > int(num[i + 1])):\n",
    "                num[i], num[i + 1] = num[i + 1], num[i]\n",
    "    return(\"\".join(map(str, num)))"
   ]
  },
  {
   "cell_type": "code",
   "execution_count": 71,
   "metadata": {},
   "outputs": [],
   "source": [
    "def analisis(mas, quantity):\n",
    "    for i in range(len(mas)):\n",
    "        count = 1\n",
    "        buff = [i]\n",
    "        for k in range(i + 1, len(mas)):\n",
    "            if (mas[k] == mas[i]):\n",
    "                buff.append(k)\n",
    "                count += 1\n",
    "        if (count == quantity):\n",
    "            return(i)\n",
    "    return(-1)"
   ]
  },
  {
   "cell_type": "code",
   "execution_count": 72,
   "metadata": {},
   "outputs": [
    {
     "name": "stdout",
     "output_type": "stream",
     "text": [
      "127035954683\n"
     ]
    }
   ],
   "source": [
    "quant = 5\n",
    "for i in range(100):\n",
    "    arr = search(i)\n",
    "    arr_with_sort_nums = list(map(sort_nums_in, arr))\n",
    "    x = analisis(arr_with_sort_nums, quant)\n",
    "    if (x > 0):\n",
    "        print(arr[x])        \n",
    "        break"
   ]
  },
  {
   "cell_type": "code",
   "execution_count": null,
   "metadata": {},
   "outputs": [],
   "source": []
  }
 ],
 "metadata": {
  "kernelspec": {
   "display_name": "Python 3",
   "language": "python",
   "name": "python3"
  },
  "language_info": {
   "codemirror_mode": {
    "name": "ipython",
    "version": 3
   },
   "file_extension": ".py",
   "mimetype": "text/x-python",
   "name": "python",
   "nbconvert_exporter": "python",
   "pygments_lexer": "ipython3",
   "version": "3.6.5"
  }
 },
 "nbformat": 4,
 "nbformat_minor": 2
}
