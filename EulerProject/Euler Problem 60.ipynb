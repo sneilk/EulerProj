{
 "cells": [
  {
   "cell_type": "markdown",
   "metadata": {},
   "source": [
    "Task taken from: https://projecteuler.net/problem=60"
   ]
  },
  {
   "cell_type": "code",
   "execution_count": 1,
   "metadata": {},
   "outputs": [],
   "source": [
    "import time\n",
    "from tqdm import tqdm_notebook as tqdm"
   ]
  },
  {
   "cell_type": "code",
   "execution_count": 2,
   "metadata": {},
   "outputs": [],
   "source": [
    "def is_prime(num):\n",
    "    if num < 2:\n",
    "        return False\n",
    "    i = 2\n",
    "    while(i <= 1 + num // i):\n",
    "        if not (num % i):\n",
    "            return False\n",
    "        i += 1\n",
    "    return True"
   ]
  },
  {
   "cell_type": "code",
   "execution_count": 3,
   "metadata": {},
   "outputs": [],
   "source": [
    "def next_prime(num):\n",
    "    while 1:\n",
    "        num += 1\n",
    "        if is_prime(num):\n",
    "            return(num)"
   ]
  },
  {
   "cell_type": "code",
   "execution_count": 4,
   "metadata": {},
   "outputs": [],
   "source": [
    "def concat_nums(nums):\n",
    "    new_nums = []\n",
    "    for i in range(0, len(nums) - 1):\n",
    "        for j in range(i + 1, len(nums)):\n",
    "            new_nums.append(int(str(nums[i]) + str(nums[j])))\n",
    "            new_nums.append(int(str(nums[j]) + str(nums[i])))\n",
    "    return new_nums\n",
    "\n",
    "def check_nums(nums):\n",
    "    nums_to_check = concat_nums(nums)\n",
    "    for i in nums_to_check:\n",
    "        if not is_prime(i):\n",
    "            return False\n",
    "    return True"
   ]
  },
  {
   "cell_type": "code",
   "execution_count": 5,
   "metadata": {},
   "outputs": [],
   "source": [
    "def search_nums(nums, count=1, min_num = 50000):\n",
    "    i = next_prime(max(nums))\n",
    "    while (i < 10000):\n",
    "        nums.append(i)\n",
    "        if (check_nums(nums)):\n",
    "            if sum(nums[:]) > min_num:\n",
    "                return min_num\n",
    "            elif(count == 4):\n",
    "                print('\\n', nums, '\\n', sum(nums))\n",
    "                if (min_num > sum(nums)):\n",
    "                    min_num = sum(nums)\n",
    "            else:\n",
    "                buf = search_nums(nums, count + 1, min_num)\n",
    "                if (min_num > buf):\n",
    "                    min_num = buf\n",
    "        nums = nums[:count]\n",
    "        i = next_prime(i)\n",
    "    return min_num"
   ]
  },
  {
   "cell_type": "code",
   "execution_count": 7,
   "metadata": {},
   "outputs": [
    {
     "data": {
      "application/vnd.jupyter.widget-view+json": {
       "model_id": "48c2d24d773645bdb11e998415cf6c0e",
       "version_major": 2,
       "version_minor": 0
      },
      "text/plain": [
       "HBox(children=(IntProgress(value=0, max=500), HTML(value='')))"
      ]
     },
     "metadata": {},
     "output_type": "display_data"
    },
    {
     "name": "stdout",
     "output_type": "stream",
     "text": [
      "\n",
      " [13, 5197, 5701, 6733, 8389] \n",
      " 26033\n"
     ]
    }
   ],
   "source": [
    "i = 3\n",
    "res = {}\n",
    "min_sum = 100000\n",
    "for j in tqdm(range(500)):\n",
    "    res[i] = search_nums([i], min_num=min_sum)\n",
    "    min_sum = min(res[i], min_sum)\n",
    "    i = next_prime(i)"
   ]
  },
  {
   "cell_type": "markdown",
   "metadata": {},
   "source": [
    "Answer: (13, 5197, 5701, 6733, 8389) = 26033"
   ]
  },
  {
   "cell_type": "code",
   "execution_count": null,
   "metadata": {},
   "outputs": [],
   "source": []
  }
 ],
 "metadata": {
  "kernelspec": {
   "display_name": "Python 3",
   "language": "python",
   "name": "python3"
  },
  "language_info": {
   "codemirror_mode": {
    "name": "ipython",
    "version": 3
   },
   "file_extension": ".py",
   "mimetype": "text/x-python",
   "name": "python",
   "nbconvert_exporter": "python",
   "pygments_lexer": "ipython3",
   "version": "3.6.5"
  }
 },
 "nbformat": 4,
 "nbformat_minor": 2
}
