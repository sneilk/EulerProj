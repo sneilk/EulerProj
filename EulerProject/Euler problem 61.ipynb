{
 "cells": [
  {
   "cell_type": "code",
   "execution_count": 95,
   "metadata": {},
   "outputs": [],
   "source": [
    "def triangle(n):\n",
    "    return(n * (n + 1) // 2)\n",
    "\n",
    "def sqare(n):\n",
    "    return(n * n)\n",
    "\n",
    "def pentag(n):\n",
    "    return((n * ((3 * n) - 1)) // 2)\n",
    "\n",
    "def hexag(n):\n",
    "    return(n * (2 * n - 1))\n",
    "\n",
    "def heptag(n):\n",
    "        return(n * (5 * n - 3) // 2)\n",
    "    \n",
    "def octag(n):\n",
    "        return(n * (3 * n - 2))"
   ]
  },
  {
   "cell_type": "code",
   "execution_count": 96,
   "metadata": {},
   "outputs": [],
   "source": [
    "def search_nums_len_4(func):\n",
    "    k = 1\n",
    "    i = 1\n",
    "    res_list = []\n",
    "    while(1):\n",
    "        k = func(i)\n",
    "        if (k > 10000):\n",
    "            return(res_list)\n",
    "        elif(len(str(k)) == 4):\n",
    "            res_list.append(k)\n",
    "        i += 1"
   ]
  },
  {
   "cell_type": "code",
   "execution_count": 97,
   "metadata": {},
   "outputs": [],
   "source": [
    "def pair(num1, num2):\n",
    "    if str(num1)[2:] == str(num2)[:2]:\n",
    "        return True\n",
    "    return False"
   ]
  },
  {
   "cell_type": "code",
   "execution_count": 98,
   "metadata": {},
   "outputs": [],
   "source": [
    "def post_check(list_to_ch, num, first):\n",
    "    if (len(list_to_ch) == 1):\n",
    "        return (pair(list_to_ch[0], first) and (pair(num, list_to_ch[0])))\n",
    "    else:\n",
    "        res = False\n",
    "        for i in range(len(list_to_ch)):\n",
    "            if (pair(num, list_to_ch[i])):\n",
    "                l1 = list_to_ch.copy()\n",
    "                l1.pop(i)\n",
    "                res = post_check(l1, list_to_ch[i], first)\n",
    "                if (res):\n",
    "                    return True\n",
    "        return res"
   ]
  },
  {
   "cell_type": "code",
   "execution_count": 99,
   "metadata": {},
   "outputs": [],
   "source": [
    "## Проверка списка на то, что окончание каждого его элемента является началом другого\n",
    "def check(list_to_check):\n",
    "    res = False\n",
    "    num = list_to_check[0]\n",
    "    for i in range(1, len(list_to_check)):\n",
    "        if (pair(num, list_to_check[i])):\n",
    "            l1 = list_to_check[1:].copy()\n",
    "            l1.pop(i - 1)\n",
    "            res = post_check(l1, list_to_check[i], num)\n",
    "            if (res):\n",
    "                return True\n",
    "    return False"
   ]
  },
  {
   "cell_type": "code",
   "execution_count": 100,
   "metadata": {},
   "outputs": [],
   "source": [
    "## Более быстрая реализация (из интернета приведена в конце файла)\n",
    "def n_cycle_to_check(data_dict, res, count):\n",
    "    if (data_dict.get(min_key + count, -1) == -1):\n",
    "        if (check(res)):\n",
    "            print(res, \", sum: \", sum(res))\n",
    "        \n",
    "    else:\n",
    "        for i in dict_nums[min_key + count]:\n",
    "            buff_res = res.copy()\n",
    "            buff_res.append(i)\n",
    "            n_cycle_to_check(dict_nums, buff_res, count - 1)"
   ]
  },
  {
   "cell_type": "code",
   "execution_count": 101,
   "metadata": {},
   "outputs": [],
   "source": [
    "dict_types = {3: triangle, 4: sqare, 5: pentag, 6: hexag, 7: heptag, 8: octag}\n",
    "dict_nums = {}\n",
    "\n",
    "for i in range(6):\n",
    "    dict_nums[i + 3] = search_nums_len_4(dict_types[i + 3])"
   ]
  },
  {
   "cell_type": "code",
   "execution_count": null,
   "metadata": {},
   "outputs": [
    {
     "name": "stdout",
     "output_type": "stream",
     "text": [
      "[1281, 2512, 8128, 2882, 5625, 8256]\n"
     ]
    }
   ],
   "source": [
    "%%time\n",
    "count = len(dict_nums.keys())\n",
    "min_key = min(dict_nums.keys()) -1\n",
    "for i in dict_nums[min_key + count]:\n",
    "    n_cycle_to_check(dict_nums, [i], count - 1)"
   ]
  },
  {
   "cell_type": "code",
   "execution_count": 86,
   "metadata": {},
   "outputs": [
    {
     "data": {
      "text/plain": [
       "28684"
      ]
     },
     "execution_count": 86,
     "metadata": {},
     "output_type": "execute_result"
    }
   ],
   "source": [
    "sum([1281, 2512, 8128, 2882, 5625, 8256])"
   ]
  },
  {
   "cell_type": "code",
   "execution_count": 115,
   "metadata": {},
   "outputs": [],
   "source": [
    "def rec(dct, sofar=[]):\n",
    "    if len(sofar) == 6:\n",
    "        if (sofar[-1] % 100 == sofar[0] // 100):\n",
    "            return sofar\n",
    "        return []\n",
    "    for n in dct.keys():\n",
    "        d = dct.copy()\n",
    "        vals = d.pop(n)\n",
    "        for v in vals:\n",
    "            # allow any first number, but only matching successors\n",
    "            if not sofar or (sofar[-1] % 100 == v // 100):\n",
    "                ret = rec(d, sofar.copy() + [v])\n",
    "                if ret:\n",
    "                    return ret\n",
    "    return []"
   ]
  },
  {
   "cell_type": "code",
   "execution_count": 116,
   "metadata": {},
   "outputs": [
    {
     "data": {
      "text/plain": [
       "28684"
      ]
     },
     "execution_count": 116,
     "metadata": {},
     "output_type": "execute_result"
    }
   ],
   "source": [
    "sum(rec(dict_nums))"
   ]
  },
  {
   "cell_type": "code",
   "execution_count": null,
   "metadata": {},
   "outputs": [],
   "source": []
  }
 ],
 "metadata": {
  "kernelspec": {
   "display_name": "Python 3",
   "language": "python",
   "name": "python3"
  },
  "language_info": {
   "codemirror_mode": {
    "name": "ipython",
    "version": 3
   },
   "file_extension": ".py",
   "mimetype": "text/x-python",
   "name": "python",
   "nbconvert_exporter": "python",
   "pygments_lexer": "ipython3",
   "version": "3.6.5"
  }
 },
 "nbformat": 4,
 "nbformat_minor": 2
}
